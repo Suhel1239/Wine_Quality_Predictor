{
  "cells": [
    {
      "cell_type": "markdown",
      "metadata": {
        "id": "view-in-github",
        "colab_type": "text"
      },
      "source": [
        "<a href=\"https://colab.research.google.com/github/Suhel1239/Wine_Quality_Predictor/blob/main/WineQualityCheck.ipynb\" target=\"_parent\"><img src=\"https://colab.research.google.com/assets/colab-badge.svg\" alt=\"Open In Colab\"/></a>"
      ]
    },
    {
      "cell_type": "markdown",
      "id": "34aa232d-0ed0-4fa6-ba01-be3d30f8cdc6",
      "metadata": {
        "id": "34aa232d-0ed0-4fa6-ba01-be3d30f8cdc6"
      },
      "source": [
        "# Wine Quality"
      ]
    },
    {
      "cell_type": "code",
      "execution_count": null,
      "id": "41d9821e-36f6-4b5f-ad68-a93e59a97329",
      "metadata": {
        "scrolled": true,
        "id": "41d9821e-36f6-4b5f-ad68-a93e59a97329"
      },
      "outputs": [],
      "source": [
        "pip install seaborn\n"
      ]
    },
    {
      "cell_type": "code",
      "source": [
        "pip install imblearn"
      ],
      "metadata": {
        "id": "7x0aAzuXj3Ev"
      },
      "id": "7x0aAzuXj3Ev",
      "execution_count": null,
      "outputs": []
    },
    {
      "cell_type": "code",
      "source": [
        "pip install streamlit"
      ],
      "metadata": {
        "id": "MJiIDXPQ2jv5"
      },
      "id": "MJiIDXPQ2jv5",
      "execution_count": null,
      "outputs": []
    },
    {
      "cell_type": "markdown",
      "id": "4838a177-3d0a-48bd-8cf4-b69e99a6c7fa",
      "metadata": {
        "id": "4838a177-3d0a-48bd-8cf4-b69e99a6c7fa"
      },
      "source": [
        "### Importing Libraries"
      ]
    },
    {
      "cell_type": "code",
      "execution_count": null,
      "id": "c0895c0f-85ec-47f6-8c89-fc9318de2377",
      "metadata": {
        "id": "c0895c0f-85ec-47f6-8c89-fc9318de2377"
      },
      "outputs": [],
      "source": [
        "import pandas as pd\n",
        "import numpy as np\n",
        "import seaborn as sb\n",
        "import matplotlib.pyplot as plt\n",
        "import pickle"
      ]
    },
    {
      "cell_type": "markdown",
      "id": "1f6ffc1d-c199-4c49-9579-08a3c71975d6",
      "metadata": {
        "id": "1f6ffc1d-c199-4c49-9579-08a3c71975d6"
      },
      "source": [
        "### Importing Datasets"
      ]
    },
    {
      "cell_type": "code",
      "source": [
        "dataset = pd.read_csv(\"winequality-red.csv\")"
      ],
      "metadata": {
        "id": "Qtv20WMKny1d"
      },
      "id": "Qtv20WMKny1d",
      "execution_count": null,
      "outputs": []
    },
    {
      "cell_type": "code",
      "source": [
        "sb.catplot(data=dataset , x=\"quality\" , kind=\"count\")"
      ],
      "metadata": {
        "colab": {
          "base_uri": "https://localhost:8080/",
          "height": 524
        },
        "id": "duy9q7iJdTpI",
        "outputId": "e6cb5264-25c6-44b1-f1d0-ae78d86aeb61"
      },
      "id": "duy9q7iJdTpI",
      "execution_count": null,
      "outputs": [
        {
          "output_type": "execute_result",
          "data": {
            "text/plain": [
              "<seaborn.axisgrid.FacetGrid at 0x7df9adfb2170>"
            ]
          },
          "metadata": {},
          "execution_count": 6
        },
        {
          "output_type": "display_data",
          "data": {
            "text/plain": [
              "<Figure size 500x500 with 1 Axes>"
            ],
            "image/png": "[encoded data removed]"
          },
          "metadata": {}
        }
      ]
    },
    {
      "cell_type": "code",
      "execution_count": null,
      "id": "df22a0c9-45b4-48d0-84cb-a38d108eef49",
      "metadata": {
        "id": "df22a0c9-45b4-48d0-84cb-a38d108eef49"
      },
      "outputs": [],
      "source": [
        "from pandas.compat import numpy\n",
        "\n",
        "# X = dataset.drop([\"quality\",\"free sulfur dioxide\"] , axis=1)\n",
        "X=dataset.iloc[:,:-1].values\n",
        "y=dataset.iloc[:,-1].values\n",
        "# from sklearn.preprocessing import binarize , Binarizer\n",
        "\n",
        "y = y.reshape(-1,1)\n",
        "# y = Binarizer(threshold=6).transform(y)"
      ]
    },
    {
      "cell_type": "code",
      "source": [
        "print(X[0])\n",
        "print(y[7])"
      ],
      "metadata": {
        "colab": {
          "base_uri": "https://localhost:8080/"
        },
        "id": "WAOaIVmeRawJ",
        "outputId": "5c366c01-9769-4568-e29a-2a8f3a668de5"
      },
      "id": "WAOaIVmeRawJ",
      "execution_count": null,
      "outputs": [
        {
          "output_type": "stream",
          "name": "stdout",
          "text": [
            "[ 7.4     0.7     0.      1.9     0.076  11.     34.      0.9978  3.51\n",
            "  0.56    9.4   ]\n",
            "[7]\n"
          ]
        }
      ]
    },
    {
      "cell_type": "code",
      "source": [
        "counts = np.unique(y , return_counts=True)\n",
        "print(counts)"
      ],
      "metadata": {
        "colab": {
          "base_uri": "https://localhost:8080/"
        },
        "id": "gD2FfDuIqsea",
        "outputId": "aeecc9bd-2b54-46e2-ade6-08d0d0b29681"
      },
      "id": "gD2FfDuIqsea",
      "execution_count": null,
      "outputs": [
        {
          "output_type": "stream",
          "name": "stdout",
          "text": [
            "(array([3, 4, 5, 6, 7, 8]), array([ 10,  53, 681, 638, 199,  18]))\n"
          ]
        }
      ]
    },
    {
      "cell_type": "markdown",
      "source": [
        "## Doing UnderSampling"
      ],
      "metadata": {
        "id": "GD9aD7PCjoj2"
      },
      "id": "GD9aD7PCjoj2"
    },
    {
      "cell_type": "code",
      "source": [
        "# from imblearn.under_sampling import NearMiss\n",
        "#                # // But it is not good as the data present is very small\n",
        "# nm = NearMiss()\n",
        "# X , y = nm.fit_resample(X , y)\n",
        "   ######## Here Accuracy Decreases"
      ],
      "metadata": {
        "id": "5nJVIE08jn1f"
      },
      "id": "5nJVIE08jn1f",
      "execution_count": null,
      "outputs": []
    },
    {
      "cell_type": "markdown",
      "source": [
        "## Doing Oversampling and UnderSampling Combinr"
      ],
      "metadata": {
        "id": "moZLdo-jmF-_"
      },
      "id": "moZLdo-jmF-_"
    },
    {
      "cell_type": "code",
      "source": [
        "from imblearn.combine import SMOTETomek\n",
        "#  // ##### It is a combination of both undersampling and oversanmpling\n",
        "uo = SMOTETomek()\n",
        "X,y = uo.fit_resample(X,y)\n",
        "     ###### Here Accuracy Increses"
      ],
      "metadata": {
        "id": "YM3oRQOomJmv"
      },
      "id": "YM3oRQOomJmv",
      "execution_count": null,
      "outputs": []
    },
    {
      "cell_type": "markdown",
      "source": [
        "## Lets Try Oversampling"
      ],
      "metadata": {
        "id": "GusMQcxmnswA"
      },
      "id": "GusMQcxmnswA"
    },
    {
      "cell_type": "code",
      "source": [
        "# from imblearn.over_sampling import SMOTE\n",
        "# nm = SMOTE(random_state=42)\n",
        "# X , y = nm.fit_resample(X,y)\n",
        "   ###### We Found that combination of both is best"
      ],
      "metadata": {
        "id": "02dEGcWNny85"
      },
      "id": "02dEGcWNny85",
      "execution_count": null,
      "outputs": []
    },
    {
      "cell_type": "code",
      "source": [
        "count = np.unique(y , return_counts=True)\n",
        "print(count)"
      ],
      "metadata": {
        "colab": {
          "base_uri": "https://localhost:8080/"
        },
        "id": "1NFpEc2DoGK6",
        "outputId": "b4badba1-e489-4c38-e2df-6ac7c236b150"
      },
      "id": "1NFpEc2DoGK6",
      "execution_count": null,
      "outputs": [
        {
          "output_type": "stream",
          "name": "stdout",
          "text": [
            "(array([3, 4, 5, 6, 7, 8]), array([671, 658, 602, 610, 670, 671]))\n"
          ]
        }
      ]
    },
    {
      "cell_type": "code",
      "source": [
        "print(X.shape)\n",
        "print(y.shape)"
      ],
      "metadata": {
        "colab": {
          "base_uri": "https://localhost:8080/"
        },
        "id": "8Dl_jy_kkrMQ",
        "outputId": "fe2ca78f-c1bd-4d5a-fc61-b959b9e04d89"
      },
      "id": "8Dl_jy_kkrMQ",
      "execution_count": null,
      "outputs": [
        {
          "output_type": "stream",
          "name": "stdout",
          "text": [
            "(3882, 11)\n",
            "(3882,)\n"
          ]
        }
      ]
    },
    {
      "cell_type": "code",
      "execution_count": null,
      "id": "c0bcec5f-d5a6-471f-a67b-87e9f9266d1a",
      "metadata": {
        "scrolled": true,
        "id": "c0bcec5f-d5a6-471f-a67b-87e9f9266d1a"
      },
      "outputs": [],
      "source": [
        "plt.figure(figsize=(12, 12))\n",
        "sb.heatmap(dataset.corr(), annot=True, cbar=True , square=True , fmt='.1f' , annot_kws={\"size\":8} , cmap=\"Blues\")\n",
        "plt.show()"
      ]
    },
    {
      "cell_type": "code",
      "execution_count": null,
      "id": "e82f47ad-1617-491b-9a9c-d39b1cf50d77",
      "metadata": {
        "scrolled": true,
        "colab": {
          "base_uri": "https://localhost:8080/"
        },
        "id": "e82f47ad-1617-491b-9a9c-d39b1cf50d77",
        "outputId": "21c0583e-47db-4210-f60c-83d5017998a6"
      },
      "outputs": [
        {
          "output_type": "stream",
          "name": "stdout",
          "text": [
            "(3882, 11)\n"
          ]
        }
      ],
      "source": [
        "print(X.shape)"
      ]
    },
    {
      "cell_type": "code",
      "execution_count": null,
      "id": "4ea9ae0f-ac62-4950-b609-47057d81485f",
      "metadata": {
        "id": "4ea9ae0f-ac62-4950-b609-47057d81485f"
      },
      "outputs": [],
      "source": [
        "from sklearn.model_selection import train_test_split\n",
        "X_train , X_test , y_train , y_test = train_test_split(X , y , test_size = 0.2 , random_state=3)\n"
      ]
    },
    {
      "cell_type": "markdown",
      "source": [
        "### Scaling the Data\n"
      ],
      "metadata": {
        "id": "ZU_12YX0Q7qB"
      },
      "id": "ZU_12YX0Q7qB"
    },
    {
      "cell_type": "code",
      "source": [
        "from sklearn.preprocessing import StandardScaler\n",
        "sc = StandardScaler()\n",
        "X_train = sc.fit_transform(X_train)\n",
        "X_test = sc.transform(X_test)"
      ],
      "metadata": {
        "id": "N0_SYw2zQ_iN"
      },
      "id": "N0_SYw2zQ_iN",
      "execution_count": null,
      "outputs": []
    },
    {
      "cell_type": "code",
      "source": [
        "print(X_test[0])"
      ],
      "metadata": {
        "colab": {
          "base_uri": "https://localhost:8080/"
        },
        "id": "E20oYhdnRfJy",
        "outputId": "36300b6d-d002-4e6e-93d8-ef5b97e059c5"
      },
      "id": "E20oYhdnRfJy",
      "execution_count": null,
      "outputs": [
        {
          "output_type": "stream",
          "name": "stdout",
          "text": [
            "[ 0.89436859 -0.9470407   0.95482553  1.64104939 -0.3690588  -0.78023264\n",
            " -0.78281262 -0.0088503  -0.66779079  0.70357092  1.56399024]\n"
          ]
        }
      ]
    },
    {
      "cell_type": "code",
      "source": [
        "print(y_test)"
      ],
      "metadata": {
        "id": "Q1Yn5I5DWeI5",
        "colab": {
          "base_uri": "https://localhost:8080/"
        },
        "outputId": "8585167c-91d9-4bf3-a278-78ed92e37488"
      },
      "id": "Q1Yn5I5DWeI5",
      "execution_count": null,
      "outputs": [
        {
          "output_type": "stream",
          "name": "stdout",
          "text": [
            "[8 6 4 6 4 4 3 6 4 3 7 4 3 4 7 3 3 6 8 3 8 6 5 6 3 6 4 8 7 3 6 6 5 3 3 8 4\n",
            " 4 7 6 7 7 6 7 7 7 8 3 8 3 8 6 8 3 6 3 5 3 6 5 3 8 8 4 8 3 4 6 3 8 5 4 8 4\n",
            " 4 7 3 5 5 3 3 3 4 7 5 4 5 6 4 4 5 3 4 3 8 7 3 5 3 5 6 6 4 7 3 7 7 6 7 7 3\n",
            " 8 8 7 5 8 4 8 8 3 3 3 7 4 8 8 5 8 3 4 5 3 4 6 4 4 3 5 3 6 8 5 8 8 7 4 8 8\n",
            " 7 4 4 6 4 3 4 6 8 6 7 3 6 7 7 7 8 6 5 8 6 5 3 4 3 5 7 7 4 4 5 4 7 6 5 5 5\n",
            " 4 4 7 3 5 4 4 6 6 5 4 7 8 5 3 5 8 3 6 7 8 8 4 7 6 6 5 3 8 5 4 6 5 6 3 6 8\n",
            " 5 7 3 7 6 3 5 6 7 8 3 7 4 5 3 3 7 5 5 7 4 8 4 6 3 7 8 6 7 7 5 6 5 5 4 3 6\n",
            " 4 3 5 4 7 7 8 4 5 6 5 5 4 8 7 7 3 7 8 3 8 5 7 4 6 4 5 6 8 6 7 7 6 3 5 7 8\n",
            " 3 3 7 5 8 3 8 6 8 7 5 3 6 5 8 6 6 7 3 8 3 8 5 7 7 3 3 4 7 6 5 7 5 8 8 6 3\n",
            " 5 3 5 6 5 7 3 6 4 6 3 8 6 5 6 4 8 5 8 3 3 3 4 5 5 6 3 4 3 8 4 8 6 6 8 7 8\n",
            " 8 7 7 3 7 6 6 6 4 6 8 3 3 8 5 6 5 5 3 4 8 8 8 7 4 3 4 6 5 3 5 8 7 8 6 6 7\n",
            " 3 8 8 5 4 3 4 6 5 6 4 3 5 5 7 4 7 5 3 3 5 7 7 8 7 7 6 8 4 4 3 8 7 3 8 6 3\n",
            " 7 4 8 8 5 8 4 7 5 6 6 8 8 5 6 7 7 4 7 8 4 8 4 7 5 8 6 6 7 7 6 4 3 4 8 3 7\n",
            " 8 6 6 7 8 7 3 6 4 5 8 4 7 7 5 4 3 8 4 5 3 3 7 3 3 6 8 8 8 8 3 7 5 5 4 5 6\n",
            " 7 4 3 3 6 4 7 4 8 3 3 5 3 7 3 4 5 4 4 4 6 5 8 3 5 8 3 4 4 7 5 7 4 6 4 8 6\n",
            " 4 3 4 8 4 7 8 3 4 6 7 6 3 4 7 5 8 5 6 8 4 6 4 6 7 8 6 4 7 4 7 8 4 5 7 4 6\n",
            " 5 6 8 6 3 3 5 5 5 5 3 6 6 6 3 8 8 3 7 5 5 4 7 8 7 3 5 7 4 8 6 6 6 7 6 7 4\n",
            " 8 3 8 4 7 7 3 8 5 8 8 4 8 8 3 6 4 5 4 3 5 4 6 3 8 5 3 7 4 5 4 4 4 7 3 3 7\n",
            " 4 3 7 5 4 4 7 7 8 6 5 7 3 8 8 4 5 4 3 5 8 3 5 6 4 4 3 8 3 8 4 3 8 5 4 3 7\n",
            " 8 6 6 5 5 6 3 3 8 6 4 3 4 5 5 3 5 5 6 4 5 3 3 6 4 4 3 6 3 8 5 7 7 4 4 5 5\n",
            " 7 5 8 3 5 5 5 6 8 8 6 6 7 8 8 6 6 8 3 8 7 6 6 8 7 3 8 6 8 6 3 4 7 7 4 6 5]\n"
          ]
        }
      ]
    },
    {
      "cell_type": "markdown",
      "source": [
        "## Random Tree Classification"
      ],
      "metadata": {
        "id": "9zxSV2TWXxc6"
      },
      "id": "9zxSV2TWXxc6"
    },
    {
      "cell_type": "code",
      "source": [
        "from sklearn.ensemble import RandomForestClassifier\n",
        "rand = RandomForestClassifier(n_estimators=10 , criterion='entropy' , random_state=0)\n",
        "rand.fit(X_train , y_train)"
      ],
      "metadata": {
        "colab": {
          "base_uri": "https://localhost:8080/",
          "height": 75
        },
        "id": "lVS_cvH1SPoQ",
        "outputId": "d0641041-19b9-4221-c285-5dd90f0bcac4"
      },
      "id": "lVS_cvH1SPoQ",
      "execution_count": null,
      "outputs": [
        {
          "output_type": "execute_result",
          "data": {
            "text/plain": [
              "RandomForestClassifier(criterion='entropy', n_estimators=10, random_state=0)"
            ],
            "text/html": [
              "<style>#sk-container-id-1 {color: black;background-color: white;}#sk-container-id-1 pre{padding: 0;}#sk-container-id-1 div.sk-toggleable {background-color: white;}#sk-container-id-1 label.sk-toggleable__label {cursor: pointer;display: block;width: 100%;margin-bottom: 0;padding: 0.3em;box-sizing: border-box;text-align: center;}#sk-container-id-1 label.sk-toggleable__label-arrow:before {content: \"▸\";float: left;margin-right: 0.25em;color: #696969;}#sk-container-id-1 label.sk-toggleable__label-arrow:hover:before {color: black;}#sk-container-id-1 div.sk-estimator:hover label.sk-toggleable__label-arrow:before {color: black;}#sk-container-id-1 div.sk-toggleable__content {max-height: 0;max-width: 0;overflow: hidden;text-align: left;background-color: #f0f8ff;}#sk-container-id-1 div.sk-toggleable__content pre {margin: 0.2em;color: black;border-radius: 0.25em;background-color: #f0f8ff;}#sk-container-id-1 input.sk-toggleable__control:checked~div.sk-toggleable__content {max-height: 200px;max-width: 100%;overflow: auto;}#sk-container-id-1 input.sk-toggleable__control:checked~label.sk-toggleable__label-arrow:before {content: \"▾\";}#sk-container-id-1 div.sk-estimator input.sk-toggleable__control:checked~label.sk-toggleable__label {background-color: #d4ebff;}#sk-container-id-1 div.sk-label input.sk-toggleable__control:checked~label.sk-toggleable__label {background-color: #d4ebff;}#sk-container-id-1 input.sk-hidden--visually {border: 0;clip: rect(1px 1px 1px 1px);clip: rect(1px, 1px, 1px, 1px);height: 1px;margin: -1px;overflow: hidden;padding: 0;position: absolute;width: 1px;}#sk-container-id-1 div.sk-estimator {font-family: monospace;background-color: #f0f8ff;border: 1px dotted black;border-radius: 0.25em;box-sizing: border-box;margin-bottom: 0.5em;}#sk-container-id-1 div.sk-estimator:hover {background-color: #d4ebff;}#sk-container-id-1 div.sk-parallel-item::after {content: \"\";width: 100%;border-bottom: 1px solid gray;flex-grow: 1;}#sk-container-id-1 div.sk-label:hover label.sk-toggleable__label {background-color: #d4ebff;}#sk-container-id-1 div.sk-serial::before {content: \"\";position: absolute;border-left: 1px solid gray;box-sizing: border-box;top: 0;bottom: 0;left: 50%;z-index: 0;}#sk-container-id-1 div.sk-serial {display: flex;flex-direction: column;align-items: center;background-color: white;padding-right: 0.2em;padding-left: 0.2em;position: relative;}#sk-container-id-1 div.sk-item {position: relative;z-index: 1;}#sk-container-id-1 div.sk-parallel {display: flex;align-items: stretch;justify-content: center;background-color: white;position: relative;}#sk-container-id-1 div.sk-item::before, #sk-container-id-1 div.sk-parallel-item::before {content: \"\";position: absolute;border-left: 1px solid gray;box-sizing: border-box;top: 0;bottom: 0;left: 50%;z-index: -1;}#sk-container-id-1 div.sk-parallel-item {display: flex;flex-direction: column;z-index: 1;position: relative;background-color: white;}#sk-container-id-1 div.sk-parallel-item:first-child::after {align-self: flex-end;width: 50%;}#sk-container-id-1 div.sk-parallel-item:last-child::after {align-self: flex-start;width: 50%;}#sk-container-id-1 div.sk-parallel-item:only-child::after {width: 0;}#sk-container-id-1 div.sk-dashed-wrapped {border: 1px dashed gray;margin: 0 0.4em 0.5em 0.4em;box-sizing: border-box;padding-bottom: 0.4em;background-color: white;}#sk-container-id-1 div.sk-label label {font-family: monospace;font-weight: bold;display: inline-block;line-height: 1.2em;}#sk-container-id-1 div.sk-label-container {text-align: center;}#sk-container-id-1 div.sk-container {/* jupyter's `normalize.less` sets `[hidden] { display: none; }` but bootstrap.min.css set `[hidden] { display: none !important; }` so we also need the `!important` here to be able to override the default hidden behavior on the sphinx rendered scikit-learn.org. See: https://github.com/scikit-learn/scikit-learn/issues/21755 */display: inline-block !important;position: relative;}#sk-container-id-1 div.sk-text-repr-fallback {display: none;}</style><div id=\"sk-container-id-1\" class=\"sk-top-container\"><div class=\"sk-text-repr-fallback\"><pre>RandomForestClassifier(criterion=&#x27;entropy&#x27;, n_estimators=10, random_state=0)</pre><b>In a Jupyter environment, please rerun this cell to show the HTML representation or trust the notebook. <br />On GitHub, the HTML representation is unable to render, please try loading this page with nbviewer.org.</b></div><div class=\"sk-container\" hidden><div class=\"sk-item\"><div class=\"sk-estimator sk-toggleable\"><input class=\"sk-toggleable__control sk-hidden--visually\" id=\"sk-estimator-id-1\" type=\"checkbox\" checked><label for=\"sk-estimator-id-1\" class=\"sk-toggleable__label sk-toggleable__label-arrow\">RandomForestClassifier</label><div class=\"sk-toggleable__content\"><pre>RandomForestClassifier(criterion=&#x27;entropy&#x27;, n_estimators=10, random_state=0)</pre></div></div></div></div></div>"
            ]
          },
          "metadata": {},
          "execution_count": 21
        }
      ]
    },
    {
      "cell_type": "markdown",
      "source": [
        "## Support Vector Regression"
      ],
      "metadata": {
        "id": "1ZDDFwwRX8fu"
      },
      "id": "1ZDDFwwRX8fu"
    },
    {
      "cell_type": "code",
      "source": [
        "# from sklearn.svm import SVC\n",
        "# rand = SVC(kernel = 'rbf', random_state = 0)\n",
        "# rand.fit(X_train, y_train)"
      ],
      "metadata": {
        "id": "6Hi9-5FtXtaU"
      },
      "id": "6Hi9-5FtXtaU",
      "execution_count": null,
      "outputs": []
    },
    {
      "cell_type": "markdown",
      "source": [
        "## Naive Bayes Classifier"
      ],
      "metadata": {
        "id": "LrAhxM7RYwoG"
      },
      "id": "LrAhxM7RYwoG"
    },
    {
      "cell_type": "code",
      "source": [
        "# from sklearn.naive_bayes import GaussianNB\n",
        "# rand = GaussianNB()\n",
        "# rand.fit(X_train, y_train)"
      ],
      "metadata": {
        "id": "O2HkYOngY0OD"
      },
      "id": "O2HkYOngY0OD",
      "execution_count": null,
      "outputs": []
    },
    {
      "cell_type": "markdown",
      "source": [
        "## Linear Regression"
      ],
      "metadata": {
        "id": "z6GyElqcZzNR"
      },
      "id": "z6GyElqcZzNR"
    },
    {
      "cell_type": "code",
      "source": [
        "# from sklearn.linear_model import LinearRegression\n",
        "# rand = LinearRegression()\n",
        "# rand.fit(X_train , y_train)"
      ],
      "metadata": {
        "id": "7LkazBJpZ3d6"
      },
      "id": "7LkazBJpZ3d6",
      "execution_count": null,
      "outputs": []
    },
    {
      "cell_type": "markdown",
      "source": [
        "## Logistic Regression"
      ],
      "metadata": {
        "id": "SGjrzTIMbOnk"
      },
      "id": "SGjrzTIMbOnk"
    },
    {
      "cell_type": "code",
      "source": [
        "# from sklearn.linear_model import LogisticRegression\n",
        "# rand = LogisticRegression()\n",
        "# rand.fit(X_train , y_train)"
      ],
      "metadata": {
        "id": "eh26BGDAbRKk"
      },
      "id": "eh26BGDAbRKk",
      "execution_count": null,
      "outputs": []
    },
    {
      "cell_type": "code",
      "source": [
        "y_pred = rand.predict(X_test)\n",
        "y_pred = y_pred.reshape(len(y_pred),1)\n",
        "print(y_pred)"
      ],
      "metadata": {
        "id": "OUCJVauCSpMA"
      },
      "id": "OUCJVauCSpMA",
      "execution_count": null,
      "outputs": []
    },
    {
      "cell_type": "code",
      "source": [
        "m = rand.predict([[7.4,0.35,0.33,2.4,0.068,9,26,0.9946,3.39,0.6,11.9]])\n",
        "print(m)"
      ],
      "metadata": {
        "colab": {
          "base_uri": "https://localhost:8080/"
        },
        "id": "gyCKSZx4ZwIk",
        "outputId": "7ce55ead-945e-44f3-a03b-153b72aab410"
      },
      "id": "gyCKSZx4ZwIk",
      "execution_count": null,
      "outputs": [
        {
          "output_type": "stream",
          "name": "stdout",
          "text": [
            "[5]\n"
          ]
        }
      ]
    },
    {
      "cell_type": "code",
      "source": [
        "print(np.concatenate((y_pred.reshape(len(y_pred),1) , y_test.reshape(len(y_test),1)),1))"
      ],
      "metadata": {
        "id": "zIDtV-HNS0FN"
      },
      "id": "zIDtV-HNS0FN",
      "execution_count": null,
      "outputs": []
    },
    {
      "cell_type": "markdown",
      "source": [
        "## Creating The Confusion Matrix and founding Accuracy"
      ],
      "metadata": {
        "id": "bzEDGu0JWxDW"
      },
      "id": "bzEDGu0JWxDW"
    },
    {
      "cell_type": "code",
      "source": [
        "from sklearn.metrics import confusion_matrix , accuracy_score\n",
        "m = confusion_matrix(y_test , y_pred)\n",
        "print(m)\n",
        "print(accuracy_score(y_pred , y_test))"
      ],
      "metadata": {
        "colab": {
          "base_uri": "https://localhost:8080/"
        },
        "id": "u_aFreVc7zEm",
        "outputId": "11b2f98a-09f2-4eab-9a6e-8f0befb5fe81"
      },
      "id": "u_aFreVc7zEm",
      "execution_count": null,
      "outputs": [
        {
          "output_type": "stream",
          "name": "stdout",
          "text": [
            "[[140   0   0   0   0   0]\n",
            " [  0 124   7   1   0   0]\n",
            " [  2  10  87  22   1   0]\n",
            " [  0   2  19  85  16   3]\n",
            " [  0   0   4   7 108   4]\n",
            " [  0   0   0   1   2 132]]\n",
            "0.87001287001287\n"
          ]
        }
      ]
    },
    {
      "cell_type": "markdown",
      "source": [
        "## Checking R2 Score"
      ],
      "metadata": {
        "id": "sO3lkjpWaGlJ"
      },
      "id": "sO3lkjpWaGlJ"
    },
    {
      "cell_type": "code",
      "source": [
        "# from sklearn.metrics import r2_score\n",
        "# m = r2_score(y_test , y_pred)\n",
        "# print(m)"
      ],
      "metadata": {
        "id": "V5QCP8O-aKtv"
      },
      "id": "V5QCP8O-aKtv",
      "execution_count": null,
      "outputs": []
    },
    {
      "cell_type": "code",
      "source": [
        "pickle.dump(rand,open('wine.pkl','wb'))"
      ],
      "metadata": {
        "id": "z5YA_jQG0OQX"
      },
      "id": "z5YA_jQG0OQX",
      "execution_count": null,
      "outputs": []
    },
    {
      "cell_type": "code",
      "source": [
        "# from google.colab import files\n",
        "# files.download('wine.pkl')"
      ],
      "metadata": {
        "id": "urXYhZbK8JVa"
      },
      "id": "urXYhZbK8JVa",
      "execution_count": null,
      "outputs": []
    }
  ],
  "metadata": {
    "kernelspec": {
      "display_name": "Python 3 (ipykernel)",
      "language": "python",
      "name": "python3"
    },
    "language_info": {
      "codemirror_mode": {
        "name": "ipython",
        "version": 3
      },
      "file_extension": ".py",
      "mimetype": "text/x-python",
      "name": "python",
      "nbconvert_exporter": "python",
      "pygments_lexer": "ipython3",
      "version": "3.11.4"
    },
    "colab": {
      "provenance": [],
      "include_colab_link": true
    }
  },
  "nbformat": 4,
  "nbformat_minor": 5
}